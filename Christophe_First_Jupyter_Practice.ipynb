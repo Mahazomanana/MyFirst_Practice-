{
 "cells": [
  {
   "cell_type": "markdown",
   "id": "7787b440",
   "metadata": {},
   "source": [
    "# 👋 Welcome to Your First Jupyter Notebook\n",
    "\n",
    "This notebook is for practicing Markdown and Python basics."
   ]
  },
  {
   "cell_type": "markdown",
   "id": "3db1ddde",
   "metadata": {},
   "source": [
    "## 📝 About You\n",
    "Use this cell to write a short introduction using Markdown. Include:\n",
    "- Your name\n",
    "- Your goal for learning Python\n",
    "- One fun fact about yourself"
   ]
  },
  {
   "cell_type": "code",
   "execution_count": null,
   "id": "272733ee",
   "metadata": {},
   "outputs": [],
   "source": [
    "print(\"Hello, Christophe! Welcome to your Jupyter journey.\")"
   ]
  },
  {
   "cell_type": "markdown",
   "id": "c1c15b5a",
   "metadata": {},
   "source": [
    "## 🧠 Markdown Practice\n",
    "\n",
    "### ✔️ Tasks:\n",
    "- Create a heading\n",
    "- Add an ordered list of your goals\n",
    "- Insert a link to [python.org](https://www.python.org)\n",
    "- Add an image (e.g., ![Python Logo](https://www.python.org/static/community_logos/python-logo.png))"
   ]
  },
  {
   "cell_type": "code",
   "execution_count": null,
   "id": "456aef63",
   "metadata": {},
   "outputs": [],
   "source": [
    "# 🧮 Simple Math\n",
    "2 + 3 * 4"
   ]
  },
  {
   "cell_type": "markdown",
   "id": "1f8ca0fe",
   "metadata": {},
   "source": [
    "## 🎯 Mini Challenge\n",
    "Use Markdown to create:\n",
    "- A heading\n",
    "- An unordered list of 3 Python uses\n",
    "- A hyperlink to your favorite tutorial site"
   ]
  },
  {
   "cell_type": "code",
   "execution_count": null,
   "id": "7d02c9f8",
   "metadata": {},
   "outputs": [],
   "source": [
    "print(\"Great job, Christophe! Keep practicing.\")"
   ]
  }
 ],
 "metadata": {},
 "nbformat": 4,
 "nbformat_minor": 5
}
